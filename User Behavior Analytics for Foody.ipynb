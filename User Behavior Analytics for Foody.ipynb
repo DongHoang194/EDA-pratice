{
 "cells": [
  {
   "cell_type": "markdown",
   "metadata": {},
   "source": [
    "# USER BEHAVIOR ANALYTICS"
   ]
  },
  {
   "cell_type": "markdown",
   "metadata": {},
   "source": [
    "# Section #1 Data Analysis"
   ]
  },
  {
   "cell_type": "code",
   "execution_count": 1,
   "metadata": {},
   "outputs": [],
   "source": [
    "import pandas as pd\n",
    "import numpy as np\n",
    "import seaborn as sns\n",
    "import matplotlib.pyplot as plt\n"
   ]
  },
  {
   "cell_type": "code",
   "execution_count": 2,
   "metadata": {},
   "outputs": [
    {
     "data": {
      "text/html": [
       "<div>\n",
       "<style scoped>\n",
       "    .dataframe tbody tr th:only-of-type {\n",
       "        vertical-align: middle;\n",
       "    }\n",
       "\n",
       "    .dataframe tbody tr th {\n",
       "        vertical-align: top;\n",
       "    }\n",
       "\n",
       "    .dataframe thead th {\n",
       "        text-align: right;\n",
       "    }\n",
       "</style>\n",
       "<table border=\"1\" class=\"dataframe\">\n",
       "  <thead>\n",
       "    <tr style=\"text-align: right;\">\n",
       "      <th></th>\n",
       "      <th>Status</th>\n",
       "      <th>OrderDate</th>\n",
       "      <th>OrderTime</th>\n",
       "      <th>ASAP</th>\n",
       "      <th>DeliveredTime</th>\n",
       "      <th>CompletionTime</th>\n",
       "      <th>Distance</th>\n",
       "      <th>RestaurantID</th>\n",
       "      <th>TotalItem</th>\n",
       "      <th>Order Value</th>\n",
       "      <th>TotalDiscount</th>\n",
       "      <th>PaymentMethod</th>\n",
       "      <th>DeviceOSType</th>\n",
       "      <th>AppType</th>\n",
       "      <th>Category</th>\n",
       "    </tr>\n",
       "  </thead>\n",
       "  <tbody>\n",
       "    <tr>\n",
       "      <td>0</td>\n",
       "      <td>Delivered</td>\n",
       "      <td>5/1/2018</td>\n",
       "      <td>13:07:46</td>\n",
       "      <td>True</td>\n",
       "      <td>5/1/2018 14:44</td>\n",
       "      <td>96.817067</td>\n",
       "      <td>6.2</td>\n",
       "      <td>141966</td>\n",
       "      <td>4</td>\n",
       "      <td>222000</td>\n",
       "      <td>0</td>\n",
       "      <td>Cash</td>\n",
       "      <td>Web</td>\n",
       "      <td>Foody</td>\n",
       "      <td>[Food, Lunch]</td>\n",
       "    </tr>\n",
       "    <tr>\n",
       "      <td>1</td>\n",
       "      <td>Delivered</td>\n",
       "      <td>5/30/2018</td>\n",
       "      <td>13:09:14</td>\n",
       "      <td>True</td>\n",
       "      <td>5/30/2018 13:42</td>\n",
       "      <td>33.700000</td>\n",
       "      <td>6.2</td>\n",
       "      <td>141966</td>\n",
       "      <td>2</td>\n",
       "      <td>165000</td>\n",
       "      <td>0</td>\n",
       "      <td>Cash</td>\n",
       "      <td>Web</td>\n",
       "      <td>Foody</td>\n",
       "      <td>[Food, Lunch]</td>\n",
       "    </tr>\n",
       "    <tr>\n",
       "      <td>2</td>\n",
       "      <td>Delivered</td>\n",
       "      <td>5/29/2018</td>\n",
       "      <td>14:51:52</td>\n",
       "      <td>True</td>\n",
       "      <td>5/29/2018 15:24</td>\n",
       "      <td>32.150000</td>\n",
       "      <td>6.2</td>\n",
       "      <td>141966</td>\n",
       "      <td>2</td>\n",
       "      <td>190500</td>\n",
       "      <td>0</td>\n",
       "      <td>Cash</td>\n",
       "      <td>Web</td>\n",
       "      <td>Foody</td>\n",
       "      <td>[Food, Lunch]</td>\n",
       "    </tr>\n",
       "    <tr>\n",
       "      <td>3</td>\n",
       "      <td>Delivered</td>\n",
       "      <td>5/2/2018</td>\n",
       "      <td>11:06:15</td>\n",
       "      <td>True</td>\n",
       "      <td>5/2/2018 12:01</td>\n",
       "      <td>54.972550</td>\n",
       "      <td>8.7</td>\n",
       "      <td>1630</td>\n",
       "      <td>6</td>\n",
       "      <td>213000</td>\n",
       "      <td>0</td>\n",
       "      <td>Cash</td>\n",
       "      <td>Web</td>\n",
       "      <td>Foody</td>\n",
       "      <td>[Food]</td>\n",
       "    </tr>\n",
       "    <tr>\n",
       "      <td>4</td>\n",
       "      <td>Delivered</td>\n",
       "      <td>5/4/2018</td>\n",
       "      <td>18:35:37</td>\n",
       "      <td>True</td>\n",
       "      <td>5/4/2018 19:39</td>\n",
       "      <td>63.697100</td>\n",
       "      <td>4.0</td>\n",
       "      <td>7924</td>\n",
       "      <td>6</td>\n",
       "      <td>202500</td>\n",
       "      <td>0</td>\n",
       "      <td>Cash</td>\n",
       "      <td>iOS</td>\n",
       "      <td>Foody</td>\n",
       "      <td>[Food, Lunch]</td>\n",
       "    </tr>\n",
       "  </tbody>\n",
       "</table>\n",
       "</div>"
      ],
      "text/plain": [
       "      Status  OrderDate OrderTime  ASAP    DeliveredTime  CompletionTime  \\\n",
       "0  Delivered   5/1/2018  13:07:46  True   5/1/2018 14:44       96.817067   \n",
       "1  Delivered  5/30/2018  13:09:14  True  5/30/2018 13:42       33.700000   \n",
       "2  Delivered  5/29/2018  14:51:52  True  5/29/2018 15:24       32.150000   \n",
       "3  Delivered   5/2/2018  11:06:15  True   5/2/2018 12:01       54.972550   \n",
       "4  Delivered   5/4/2018  18:35:37  True   5/4/2018 19:39       63.697100   \n",
       "\n",
       "   Distance  RestaurantID  TotalItem  Order Value  TotalDiscount  \\\n",
       "0       6.2        141966          4       222000              0   \n",
       "1       6.2        141966          2       165000              0   \n",
       "2       6.2        141966          2       190500              0   \n",
       "3       8.7          1630          6       213000              0   \n",
       "4       4.0          7924          6       202500              0   \n",
       "\n",
       "  PaymentMethod DeviceOSType AppType       Category  \n",
       "0          Cash          Web   Foody  [Food, Lunch]  \n",
       "1          Cash          Web   Foody  [Food, Lunch]  \n",
       "2          Cash          Web   Foody  [Food, Lunch]  \n",
       "3          Cash          Web   Foody         [Food]  \n",
       "4          Cash          iOS   Foody  [Food, Lunch]  "
      ]
     },
     "execution_count": 2,
     "metadata": {},
     "output_type": "execute_result"
    }
   ],
   "source": [
    "df = pd.read_csv('/Users/Kiroha/Jupyter/User behavior sample 2.csv')\n",
    "df = df.iloc[:,2:]\n",
    "df.head()"
   ]
  },
  {
   "cell_type": "markdown",
   "metadata": {},
   "source": [
    "# Overall Summary"
   ]
  },
  {
   "cell_type": "code",
   "execution_count": 3,
   "metadata": {},
   "outputs": [
    {
     "name": "stdout",
     "output_type": "stream",
     "text": [
      "Number of order:  634\n",
      "Total order value:  132485400\n",
      "Total ordered items:  3137\n",
      "Total discounted value:  5780740\n",
      "Average of completion time: 47.832 minutes\n",
      "Average delivery distance: 3.12 km\n",
      "Average order value: 208968\n",
      "Order cancelation rate: 12.62%\n"
     ]
    }
   ],
   "source": [
    "print(\"Number of order: \", df['OrderTime'].count())\n",
    "print(\"Total order value: \", df['Order Value'].sum())\n",
    "print(\"Total ordered items: \", df['TotalItem'].sum())\n",
    "print(\"Total discounted value: \",df['TotalDiscount'].sum())\n",
    "print(\"Average of completion time: \" + str(round(df['CompletionTime'].mean(), 3)) + \" minutes\")\n",
    "print(\"Average delivery distance: \" + str(round(df['Distance'].mean(), 2)) + \" km\")\n",
    "print(\"Average order value: \" + \"{0:n}\".format(round(df['Order Value'].mean()),2))\n",
    "print(\"Order cancelation rate: \" + str(round(df[df['Status'] == 'Cancel']['Status'].count() / df['Status'].count()*100, 2)) + \"%\")"
   ]
  },
  {
   "cell_type": "markdown",
   "metadata": {},
   "source": [
    "# Key Metrics:"
   ]
  },
  {
   "cell_type": "markdown",
   "metadata": {},
   "source": [
    "1. DISCOUNTED PERCENT"
   ]
  },
  {
   "cell_type": "code",
   "execution_count": 4,
   "metadata": {},
   "outputs": [
    {
     "name": "stdout",
     "output_type": "stream",
     "text": [
      "Discounted Order Percent:  29.179810725552052 %\n"
     ]
    }
   ],
   "source": [
    "DC = df[df['TotalDiscount']>0]\n",
    "DOP = len(DC) / len(df) *100\n",
    "print('Discounted Order Percent: ', DOP, '%')"
   ]
  },
  {
   "cell_type": "markdown",
   "metadata": {},
   "source": [
    "29.2% of orders were given at discounted price"
   ]
  },
  {
   "cell_type": "code",
   "execution_count": 5,
   "metadata": {},
   "outputs": [
    {
     "name": "stdout",
     "output_type": "stream",
     "text": [
      "Discounted Value Percent (Discounted order only):  13.738642710301473 %\n"
     ]
    }
   ],
   "source": [
    "DP = df.TotalDiscount.sum() / DC['Order Value'].sum() *100\n",
    "print('Discounted Value Percent (Discounted order only): ', DP, '%')"
   ]
  },
  {
   "cell_type": "code",
   "execution_count": 6,
   "metadata": {},
   "outputs": [
    {
     "name": "stdout",
     "output_type": "stream",
     "text": [
      "Discounted Value Percent (Overall):  4.363303428151329 %\n"
     ]
    }
   ],
   "source": [
    "DP_all = df.TotalDiscount.sum() / df['Order Value'].sum() *100\n",
    "print('Discounted Value Percent (Overall): ', DP_all, '%')"
   ]
  },
  {
   "cell_type": "markdown",
   "metadata": {},
   "source": [
    "Total money loss for discounted order is 5780740 (4.36% overall)"
   ]
  },
  {
   "cell_type": "code",
   "execution_count": 7,
   "metadata": {},
   "outputs": [
    {
     "data": {
      "image/png": "[encoded data removed]",
      "text/plain": [
       "<Figure size 432x288 with 1 Axes>"
      ]
     },
     "metadata": {
      "needs_background": "light"
     },
     "output_type": "display_data"
    }
   ],
   "source": [
    "DPV = df['Discounted_Perc_Value'] = df['TotalDiscount'] / df['Order Value'] *100\n",
    "sns.distplot(DPV[DPV>0], kde=True, rug=True, bins=20).set_title('Discounted Percent of Order')\n",
    "plt.show()"
   ]
  },
  {
   "cell_type": "code",
   "execution_count": 8,
   "metadata": {},
   "outputs": [
    {
     "data": {
      "text/plain": [
       "array([ 5.92710985, 10.        , 14.81481481, 18.70512821, 23.37713267])"
      ]
     },
     "execution_count": 8,
     "metadata": {},
     "output_type": "execute_result"
    }
   ],
   "source": [
    "np.percentile(DPV[DPV>0], [5, 25, 50, 75, 95])\n",
    "# the 5th, 25th, 50th, 75th, 95th value of discounted percent of order value"
   ]
  },
  {
   "cell_type": "markdown",
   "metadata": {},
   "source": [
    "The 25th value of discounted percent of order value is 10% => 75% of discounted order have at least 10% discount \\\n",
    "The median (50th) value is 14.8% => Most order have 14-15% discount"
   ]
  },
  {
   "cell_type": "markdown",
   "metadata": {},
   "source": [
    "2. Share of app type"
   ]
  },
  {
   "cell_type": "code",
   "execution_count": 9,
   "metadata": {},
   "outputs": [
    {
     "data": {
      "text/plain": [
       "Now      429\n",
       "Foody    205\n",
       "Name: AppType, dtype: int64"
      ]
     },
     "execution_count": 9,
     "metadata": {},
     "output_type": "execute_result"
    }
   ],
   "source": [
    "# Compare \"Foody\" with \"Now\" (AppType)\n",
    "AT = df['AppType'].value_counts(ascending=False)\n",
    "AT"
   ]
  },
  {
   "cell_type": "code",
   "execution_count": 10,
   "metadata": {},
   "outputs": [
    {
     "data": {
      "text/plain": [
       "AppType\n",
       "Now      92843250\n",
       "Foody    39642150\n",
       "Name: Order Value, dtype: int64"
      ]
     },
     "execution_count": 10,
     "metadata": {},
     "output_type": "execute_result"
    }
   ],
   "source": [
    "ATP = df.groupby('AppType')['Order Value'].sum().sort_values(ascending=False)\n",
    "ATP"
   ]
  },
  {
   "cell_type": "code",
   "execution_count": 11,
   "metadata": {},
   "outputs": [
    {
     "data": {
      "image/png": "[encoded data removed]",
      "text/plain": [
       "<Figure size 432x288 with 2 Axes>"
      ]
     },
     "metadata": {},
     "output_type": "display_data"
    }
   ],
   "source": [
    "fig, (ax1, ax2) = plt.subplots(1, 2)\n",
    "labels=['Now','Foody']\n",
    "\n",
    "ax1.pie(AT,  labels=labels, autopct='%1.1f%%')\n",
    "ax1.set_title('No. order by app type')\n",
    "\n",
    "ax2.pie(ATP, labels=labels, autopct='%1.1f%%')\n",
    "ax2.set_title('Order value by App type')\n",
    "plt.show()"
   ]
  },
  {
   "cell_type": "markdown",
   "metadata": {},
   "source": [
    "Customer prefer Now better than Foody => budget for marketing should prioritize Now app."
   ]
  },
  {
   "cell_type": "markdown",
   "metadata": {},
   "source": [
    "3. Share of used devices for service"
   ]
  },
  {
   "cell_type": "code",
   "execution_count": 12,
   "metadata": {},
   "outputs": [
    {
     "data": {
      "text/plain": [
       "iOS        367\n",
       "Android    166\n",
       "Web        101\n",
       "Name: DeviceOSType, dtype: int64"
      ]
     },
     "execution_count": 12,
     "metadata": {},
     "output_type": "execute_result"
    }
   ],
   "source": [
    "# Compare Devices\n",
    "DOT = df['DeviceOSType'].value_counts(ascending=False)\n",
    "DOT"
   ]
  },
  {
   "cell_type": "code",
   "execution_count": 13,
   "metadata": {},
   "outputs": [
    {
     "data": {
      "text/plain": [
       "DeviceOSType\n",
       "iOS        73605900\n",
       "Android    29481750\n",
       "Web        29397750\n",
       "Name: Order Value, dtype: int64"
      ]
     },
     "execution_count": 13,
     "metadata": {},
     "output_type": "execute_result"
    }
   ],
   "source": [
    "DOT_V = df.groupby('DeviceOSType')['Order Value'].sum().sort_values(ascending=False)\n",
    "DOT_V"
   ]
  },
  {
   "cell_type": "code",
   "execution_count": 14,
   "metadata": {},
   "outputs": [
    {
     "data": {
      "image/png": "[encoded data removed]",
      "text/plain": [
       "<Figure size 432x288 with 2 Axes>"
      ]
     },
     "metadata": {},
     "output_type": "display_data"
    }
   ],
   "source": [
    "fig, (ax1, ax2) = plt.subplots(1, 2)\n",
    "labels2=['iOS','Android', 'Web']\n",
    "\n",
    "ax1.pie(DOT,  labels=labels2, autopct='%1.1f%%')\n",
    "ax1.set_title('No. order by DeviceOSType')\n",
    "\n",
    "ax2.pie(DOT_V, labels=labels2, autopct='%1.1f%%')\n",
    "ax2.set_title('Order value by DeviceOSType')\n",
    "plt.show()"
   ]
  },
  {
   "cell_type": "markdown",
   "metadata": {},
   "source": [
    "58% of order were given from iOS devices and 55.6% revenue came from them => Customer with iOS devices seems to have higher income, we should bring them more deal"
   ]
  },
  {
   "cell_type": "markdown",
   "metadata": {},
   "source": [
    "4. Payment Method"
   ]
  },
  {
   "cell_type": "code",
   "execution_count": 15,
   "metadata": {},
   "outputs": [
    {
     "data": {
      "text/plain": [
       "PaymentMethod\n",
       "Cash                108948150\n",
       "External(Airpay)     16147500\n",
       "VNPay                 4039500\n",
       "Credit                2435250\n",
       "PayNow                 915000\n",
       "Name: Order Value, dtype: int64"
      ]
     },
     "execution_count": 15,
     "metadata": {},
     "output_type": "execute_result"
    }
   ],
   "source": [
    "PMT = DOT_V = df.groupby('PaymentMethod')['Order Value'].sum().sort_values(ascending=False)\n",
    "PMT"
   ]
  },
  {
   "cell_type": "code",
   "execution_count": 16,
   "metadata": {},
   "outputs": [
    {
     "data": {
      "image/png": "[encoded data removed]",
      "text/plain": [
       "<Figure size 432x288 with 1 Axes>"
      ]
     },
     "metadata": {},
     "output_type": "display_data"
    }
   ],
   "source": [
    "labels3 = PMT.index\n",
    "plt.pie(PMT, labels=labels3, autopct='%1.1f%%')\n",
    "plt.title('Share of Payment Method')\n",
    "plt.show()"
   ]
  },
  {
   "cell_type": "markdown",
   "metadata": {},
   "source": [
    "The majority of customer pay in cash because it is very convenient and safe. And in case the food or drink don't come as they expect, they can protect their rights. \\\n",
    "But we should keep an eye on Airpay. With proper promotion, it can be strong payment method in the 4.0 era."
   ]
  },
  {
   "cell_type": "markdown",
   "metadata": {},
   "source": [
    "5. Day and time of order"
   ]
  },
  {
   "cell_type": "code",
   "execution_count": 17,
   "metadata": {},
   "outputs": [],
   "source": [
    "DT = pd.to_datetime(df['DeliveredTime'])\n",
    "df['day_of_week'] = DT.dt.weekday_name\n",
    "df['order_hour']  = DT.dt.hour"
   ]
  },
  {
   "cell_type": "code",
   "execution_count": 18,
   "metadata": {},
   "outputs": [
    {
     "data": {
      "text/plain": [
       "Thursday     98\n",
       "Wednesday    92\n",
       "Friday       90\n",
       "Tuesday      82\n",
       "Monday       69\n",
       "Sunday       62\n",
       "Saturday     61\n",
       "Name: day_of_week, dtype: int64"
      ]
     },
     "execution_count": 18,
     "metadata": {},
     "output_type": "execute_result"
    }
   ],
   "source": [
    "DOW = df['day_of_week'].value_counts(ascending=False)\n",
    "DOW"
   ]
  },
  {
   "cell_type": "code",
   "execution_count": 19,
   "metadata": {},
   "outputs": [
    {
     "data": {
      "text/plain": [
       "day_of_week\n",
       "Wednesday    17906550\n",
       "Thursday     17382000\n",
       "Friday       17208000\n",
       "Tuesday      16869750\n",
       "Monday       15843000\n",
       "Sunday       15582600\n",
       "Saturday     13746000\n",
       "Name: Order Value, dtype: int64"
      ]
     },
     "execution_count": 19,
     "metadata": {},
     "output_type": "execute_result"
    }
   ],
   "source": [
    "df.groupby('day_of_week')['Order Value'].sum().sort_values(ascending=False)"
   ]
  },
  {
   "cell_type": "markdown",
   "metadata": {},
   "source": [
    "Customers tend to order more on Wednesday, Thursday and Friday. Can guess they are fellow colleagues or schoolmate and want to order something to eat together before separation on weekends\n"
   ]
  },
  {
   "cell_type": "code",
   "execution_count": 20,
   "metadata": {},
   "outputs": [
    {
     "data": {
      "text/plain": [
       "12.0    94\n",
       "13.0    82\n",
       "14.0    49\n",
       "18.0    47\n",
       "19.0    42\n",
       "21.0    41\n",
       "17.0    40\n",
       "20.0    37\n",
       "15.0    33\n",
       "16.0    31\n",
       "Name: order_hour, dtype: int64"
      ]
     },
     "execution_count": 20,
     "metadata": {},
     "output_type": "execute_result"
    }
   ],
   "source": [
    "DOW = df['order_hour'].value_counts(ascending=False)\n",
    "DOW.head(10)"
   ]
  },
  {
   "cell_type": "code",
   "execution_count": 22,
   "metadata": {},
   "outputs": [
    {
     "data": {
      "image/png": "[encoded data removed]",
      "text/plain": [
       "<Figure size 432x288 with 1 Axes>"
      ]
     },
     "metadata": {
      "needs_background": "light"
     },
     "output_type": "display_data"
    }
   ],
   "source": [
    "sns.distplot(df['order_hour'], kde=True, bins=20).set_title('Time of Order')\n",
    "plt.show()"
   ]
  },
  {
   "cell_type": "markdown",
   "metadata": {},
   "source": [
    "The rush hour is from 12:00 to 14:00"
   ]
  },
  {
   "cell_type": "code",
   "execution_count": 23,
   "metadata": {},
   "outputs": [
    {
     "data": {
      "text/plain": [
       "40.61371841155235"
      ]
     },
     "execution_count": 23,
     "metadata": {},
     "output_type": "execute_result"
    }
   ],
   "source": [
    "rush_hour = df['order_hour'].value_counts(ascending=False).iloc[0:3].sum() / df['order_hour'].value_counts(ascending=False).sum() *100\n",
    "rush_hour"
   ]
  },
  {
   "cell_type": "markdown",
   "metadata": {},
   "source": [
    "40.6% orders of the whole day were made during rush hour."
   ]
  },
  {
   "cell_type": "markdown",
   "metadata": {},
   "source": [
    "6. Category of order"
   ]
  },
  {
   "cell_type": "code",
   "execution_count": 24,
   "metadata": {},
   "outputs": [
    {
     "name": "stdout",
     "output_type": "stream",
     "text": [
      "            count\n",
      "Category         \n",
      "Food          614\n",
      "Lunch         294\n",
      "Drink          25\n",
      "Streetfood     20\n",
      "Dessert         3\n"
     ]
    },
    {
     "data": {
      "image/png": "[encoded data removed]",
      "text/plain": [
       "<Figure size 432x288 with 1 Axes>"
      ]
     },
     "metadata": {
      "needs_background": "light"
     },
     "output_type": "display_data"
    }
   ],
   "source": [
    "categoryName = ['Food', 'Lunch', 'Drink', 'Streetfood', 'Dessert']\n",
    "categoryCount = [0]*5\n",
    "for type in df['Category']:\n",
    "    if('Food' in type):\n",
    "        categoryCount[0] += 1\n",
    "    if('Lunch' in type):\n",
    "        categoryCount[1] += 1\n",
    "    if('Drink' in type):\n",
    "        categoryCount[2] += 1\n",
    "    if('Streetfood' in type):\n",
    "        categoryCount[3] += 1\n",
    "    if('Dessert' in type):\n",
    "        categoryCount[4] += 1\n",
    "Category = pd.DataFrame({'Category': categoryName, 'count': categoryCount})\n",
    "Category = Category.set_index('Category')\n",
    "print(Category)\n",
    "\n",
    "Category['count'].plot(kind='bar')\n",
    "plt.show()"
   ]
  },
  {
   "cell_type": "markdown",
   "metadata": {},
   "source": [
    "# Top users in terms of GMV"
   ]
  },
  {
   "cell_type": "markdown",
   "metadata": {},
   "source": [
    "By the analysis above, we can presume about top users:\n",
    "1. Prefer Now better than Foody\n",
    "2. Use iOS devices\n",
    "3. Pay in cash\n",
    "4. Order from 12:00 to 15:00\n",
    "5. Order on Wednesday, Thursday and Friday\n",
    "6. Order food, lunch"
   ]
  },
  {
   "cell_type": "markdown",
   "metadata": {},
   "source": [
    "# Section #2 - Data Analysis - Predictions"
   ]
  },
  {
   "cell_type": "markdown",
   "metadata": {},
   "source": [
    "Based on the data analysis above, some action can be taken to drive business forward:\n",
    "    1. Bring high value food, lunch deal to users on Wed, Thur and Fri during noon time.\n",
    "    2. Promote Now app on iOS devices better."
   ]
  },
  {
   "cell_type": "markdown",
   "metadata": {},
   "source": [
    "# Section #3 - Data Analysis - Business Insights"
   ]
  },
  {
   "cell_type": "markdown",
   "metadata": {},
   "source": [
    "Key insights that can be used to make impactful business decisions:\n",
    "    1. Time in day of order\n",
    "    2. Day in week of order\n",
    "    3. The used platform"
   ]
  },
  {
   "cell_type": "markdown",
   "metadata": {},
   "source": [
    "# Section #4 - SQL"
   ]
  },
  {
   "cell_type": "markdown",
   "metadata": {},
   "source": [
    "Query show the total order value and average basket size segmented by AppType:\n",
    "\n",
    "SELECT AppType, SUM('Order Value'), AVG('Order Value')\n",
    "\n",
    "FROM User_Behavior_Sample_2\n",
    "\n",
    "GROUP BY AppType"
   ]
  }
 ],
 "metadata": {
  "kernelspec": {
   "display_name": "Python 3",
   "language": "python",
   "name": "python3"
  },
  "language_info": {
   "codemirror_mode": {
    "name": "ipython",
    "version": 3
   },
   "file_extension": ".py",
   "mimetype": "text/x-python",
   "name": "python",
   "nbconvert_exporter": "python",
   "pygments_lexer": "ipython3",
   "version": "3.7.4"
  }
 },
 "nbformat": 4,
 "nbformat_minor": 2
}
